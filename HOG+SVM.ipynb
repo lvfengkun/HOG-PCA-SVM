{
 "cells": [
  {
   "cell_type": "code",
   "execution_count": 1,
   "metadata": {},
   "outputs": [
    {
     "name": "stdout",
     "output_type": "stream",
     "text": [
      "Total dataset size:\n",
      "n_samples: 1288\n",
      "n_features: 11750\n",
      "n_classes: 7\n"
     ]
    },
    {
     "name": "stderr",
     "output_type": "stream",
     "text": [
      "/home/lvfengkun/anaconda3/lib/python3.6/site-packages/skimage/feature/_hog.py:119: skimage_deprecation: Default value of `block_norm`==`L1` is deprecated and will be changed to `L2-Hys` in v0.15\n",
      "  'be changed to `L2-Hys` in v0.15', skimage_deprecation)\n"
     ]
    },
    {
     "name": "stdout",
     "output_type": "stream",
     "text": [
      "train\n",
      "done in 1739.726s\n",
      "Best estimator found by grid search:\n",
      "SVC(C=1000.0, cache_size=200, class_weight='balanced', coef0=0.0,\n",
      "  decision_function_shape='ovr', degree=3, gamma=0.0001, kernel='rbf',\n",
      "  max_iter=-1, probability=False, random_state=None, shrinking=True,\n",
      "  tol=0.001, verbose=False)\n",
      "3\n",
      "end\n"
     ]
    }
   ],
   "source": [
    "import cv2\n",
    "import numpy as np\n",
    "from sklearn.datasets import fetch_lfw_people\n",
    "from sklearn.model_selection import train_test_split\n",
    "import logging\n",
    "logging.basicConfig(level=logging.INFO, format='%(asctime)s %(message)s')\n",
    "import matplotlib.pyplot as plt\n",
    "from skimage import feature as ft\n",
    "from sklearn.model_selection import GridSearchCV\n",
    "from sklearn.svm import SVC\n",
    "from time import time\n",
    "# #############################################################################\n",
    "# Download the data, if not already on disk and load it as numpy arrays\n",
    "\n",
    "lfw_people = fetch_lfw_people(min_faces_per_person=70, resize=1.0)\n",
    "\n",
    "# introspect the images arrays to find the shapes (for plotting)\n",
    "n_samples, h, w = lfw_people.images.shape\n",
    "\n",
    "# for machine learning we use the 2 data directly (as relative pixel\n",
    "# positions info is ignored by this model)\n",
    "X = lfw_people.data\n",
    "n_features = X.shape[1]\n",
    "\n",
    "# the label to predict is the id of the person\n",
    "y = lfw_people.target\n",
    "target_names = lfw_people.target_names\n",
    "n_classes = target_names.shape[0]\n",
    "\n",
    "print(\"Total dataset size:\")\n",
    "print(\"n_samples: %d\" % n_samples)\n",
    "print(\"n_features: %d\" % n_features)\n",
    "print(\"n_classes: %d\" % n_classes)\n",
    "\n",
    "\n",
    "# #############################################################################\n",
    "# Split into a training set and a test set using a stratified k fold\n",
    "\n",
    "# split into a training and testing set\n",
    "X_train, X_test, y_train, y_test = train_test_split(\n",
    "    lfw_people.images, y, test_size=0.25, random_state=42)\n",
    "features=[]\n",
    "\n",
    "for n_images in X_train:\n",
    "    image_1=np.array(n_images,np.uint8)\n",
    "    hog_feat = ft.hog(image_1,  # input image\n",
    "                      pixels_per_cell=(6,6), # pixel per cell\n",
    "                      cells_per_block=(2,2), # cells per blcok\n",
    "                      block_norm = 'L1', #  block norm : str {‘L1’, ‘L1-sqrt’, ‘L2’, ‘L2-Hys’}\n",
    "                      transform_sqrt = True, # power law compression (also known as gamma correction)\n",
    "                      feature_vector=True, # flatten the final vectors\n",
    "                      ) # return HOG map\n",
    "    features.append(hog_feat)\n",
    "t0=time()\n",
    "print(\"train\")\n",
    "param_grid = {'C': [1e3, 5e3, 1e4, 5e4, 1e5],\n",
    "              'gamma': [0.0001, 0.0005, 0.001, 0.005, 0.01, 0.1], }\n",
    "clf = GridSearchCV(\n",
    "    SVC(kernel='rbf', class_weight='balanced'), param_grid\n",
    ")\n",
    "clf = clf.fit(features, y_train)\n",
    "print(\"done in %0.3fs\" % (time() - t0))\n",
    "print(\"Best estimator found by grid search:\")\n",
    "print(clf.best_estimator_)\n",
    "print(clf.n_splits_)\n",
    "\n",
    "\n",
    "cv2.waitKey(0)\n",
    "cv2.destroyAllWindows()\n",
    "print(\"end\")"
   ]
  },
  {
   "cell_type": "code",
   "execution_count": 5,
   "metadata": {},
   "outputs": [
    {
     "name": "stderr",
     "output_type": "stream",
     "text": [
      "/home/lvfengkun/anaconda3/lib/python3.6/site-packages/skimage/feature/_hog.py:119: skimage_deprecation: Default value of `block_norm`==`L1` is deprecated and will be changed to `L2-Hys` in v0.15\n",
      "  'be changed to `L2-Hys` in v0.15', skimage_deprecation)\n"
     ]
    },
    {
     "name": "stdout",
     "output_type": "stream",
     "text": [
      "done in 5.503s\n",
      "                   precision    recall  f1-score   support\n",
      "\n",
      "     Ariel Sharon       1.00      0.85      0.92        13\n",
      "     Colin Powell       0.94      1.00      0.97        60\n",
      "  Donald Rumsfeld       0.92      0.81      0.86        27\n",
      "    George W Bush       0.94      0.99      0.96       146\n",
      "Gerhard Schroeder       0.92      0.96      0.94        25\n",
      "      Hugo Chavez       1.00      0.67      0.80        15\n",
      "       Tony Blair       0.94      0.83      0.88        36\n",
      "\n",
      "      avg / total       0.94      0.94      0.94       322\n",
      "\n",
      "[[ 11   0   1   1   0   0   0]\n",
      " [  0  60   0   0   0   0   0]\n",
      " [  0   1  22   2   1   0   1]\n",
      " [  0   0   1 145   0   0   0]\n",
      " [  0   0   0   1  24   0   0]\n",
      " [  0   1   0   3   0  10   1]\n",
      " [  0   2   0   3   1   0  30]]\n"
     ]
    }
   ],
   "source": [
    "from sklearn.metrics import classification_report\n",
    "from sklearn.metrics import confusion_matrix\n",
    "t0 = time()\n",
    "features_1=[]\n",
    "for n_images in X_test:\n",
    "    image_1=np.array(n_images,np.uint8)\n",
    "    hog_feat = ft.hog(image_1,  # input image\n",
    "                      pixels_per_cell=(6,6), # pixel per cell\n",
    "                      cells_per_block=(2,2), # cells per blcok\n",
    "                      block_norm = 'L1', #  block norm : str {‘L1’, ‘L1-sqrt’, ‘L2’, ‘L2-Hys’}\n",
    "                      transform_sqrt = True, # power law compression (also known as gamma correction)\n",
    "                      feature_vector=True, # flatten the final vectors\n",
    "                      ) # return HOG map\n",
    "    features_1.append(hog_feat)\n",
    "y_pred = clf.predict(features_1)\n",
    "print(\"done in %0.3fs\" % (time() - t0))\n",
    "\n",
    "print(classification_report(y_test, y_pred, target_names=target_names))\n",
    "print(confusion_matrix(y_test, y_pred, labels=range(n_classes)))\n"
   ]
  },
  {
   "cell_type": "code",
   "execution_count": 6,
   "metadata": {},
   "outputs": [
    {
     "data": {
      "text/plain": [
       "['model/hog_model']"
      ]
     },
     "execution_count": 6,
     "metadata": {},
     "output_type": "execute_result"
    }
   ],
   "source": [
    "import joblib\n",
    "model_path = 'model/'\n",
    "joblib.dump(clf, model_path + 'hog_model')"
   ]
  },
  {
   "cell_type": "code",
   "execution_count": null,
   "metadata": {},
   "outputs": [],
   "source": [
    "\n"
   ]
  }
 ],
 "metadata": {
  "kernelspec": {
   "display_name": "Python 3",
   "language": "python",
   "name": "python3"
  },
  "language_info": {
   "codemirror_mode": {
    "name": "ipython",
    "version": 3
   },
   "file_extension": ".py",
   "mimetype": "text/x-python",
   "name": "python",
   "nbconvert_exporter": "python",
   "pygments_lexer": "ipython3",
   "version": "3.6.5"
  }
 },
 "nbformat": 4,
 "nbformat_minor": 2
}
